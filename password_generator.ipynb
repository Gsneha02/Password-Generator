{
  "nbformat": 4,
  "nbformat_minor": 0,
  "metadata": {
    "colab": {
      "provenance": []
    },
    "kernelspec": {
      "name": "python3",
      "display_name": "Python 3"
    },
    "language_info": {
      "name": "python"
    }
  },
  "cells": [
    {
      "cell_type": "code",
      "execution_count": 1,
      "metadata": {
        "colab": {
          "base_uri": "https://localhost:8080/"
        },
        "id": "SvEI940klaP2",
        "outputId": "50bd613e-9a3c-4387-907e-d732f8362339"
      },
      "outputs": [
        {
          "output_type": "stream",
          "name": "stdout",
          "text": [
            "qC[*=WBe>iT4/S<2\n"
          ]
        }
      ],
      "source": [
        "import random\n",
        "import string\n",
        "\n",
        "def generate_password(length=12, use_upper=True, use_lower=True, use_digits=True, use_special=True):\n",
        "    characters = \"\"\n",
        "    if use_upper:\n",
        "        characters += string.ascii_uppercase\n",
        "    if use_lower:\n",
        "        characters += string.ascii_lowercase\n",
        "    if use_digits:\n",
        "        characters += string.digits\n",
        "    if use_special:\n",
        "        characters += \"!@#$%^&*()-_=+[]{}|;:,.<>?/\"\n",
        "\n",
        "    if not characters:\n",
        "        return \"Please select at least one character type.\"\n",
        "\n",
        "    password = ''.join(random.choice(characters) for _ in range(length))\n",
        "    return password\n",
        "\n",
        "# Generate a password of length 16 with all character types\n",
        "print(generate_password(length=16))\n"
      ]
    },
    {
      "cell_type": "code",
      "source": [
        "import re\n",
        "\n",
        "def check_password_strength(password):\n",
        "    length_error = len(password) < 8\n",
        "    digit_error = re.search(r\"\\d\", password) is None\n",
        "    uppercase_error = re.search(r\"[A-Z]\", password) is None\n",
        "    lowercase_error = re.search(r\"[a-z]\", password) is None\n",
        "    special_char_error = re.search(r\"[!@#$%^&*()-_=+[\\]{}|;:,.<>?/]\", password) is None\n",
        "\n",
        "    if length_error:\n",
        "        print(\"Password must be at least 8 characters long.\")\n",
        "    if digit_error:\n",
        "        print(\"Password must contain at least one digit.\")\n",
        "    if uppercase_error:\n",
        "        print(\"Password must contain at least one uppercase letter.\")\n",
        "    if lowercase_error:\n",
        "        print(\"Password must contain at least one lowercase letter.\")\n",
        "    if special_char_error:\n",
        "        print(\"Password must contain at least one special character (!@#$%^&* etc).\")\n",
        "\n",
        "    if not (length_error or digit_error or uppercase_error or lowercase_error or special_char_error):\n",
        "        print(\"Your password is strong!\")\n",
        "\n",
        "# Get your own password input\n",
        "your_password = input(\"Enter your password: \")\n",
        "check_password_strength(your_password)\n"
      ],
      "metadata": {
        "colab": {
          "base_uri": "https://localhost:8080/"
        },
        "id": "Ko2h4bFNl4gr",
        "outputId": "e25cd042-5d0c-4ace-de34-2a8b7b3753a2"
      },
      "execution_count": 4,
      "outputs": [
        {
          "output_type": "stream",
          "name": "stdout",
          "text": [
            "Enter your password: Shero121\n",
            "Your password is strong!\n"
          ]
        }
      ]
    }
  ]
}